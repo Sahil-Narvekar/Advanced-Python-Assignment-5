{
 "cells": [
  {
   "cell_type": "code",
   "execution_count": null,
   "metadata": {},
   "outputs": [],
   "source": [
    "Q1. What is the meaning of multiple inheritance?"
   ]
  },
  {
   "cell_type": "code",
   "execution_count": null,
   "metadata": {},
   "outputs": [],
   "source": [
    "A class can be derived from more than one base class in Python. This is called multiple inheritance.\n",
    "In multiple inheritance, the features of all the base classes are inherited into the derived class."
   ]
  },
  {
   "cell_type": "code",
   "execution_count": 6,
   "metadata": {},
   "outputs": [],
   "source": [
    "class person:\n",
    "    def __init__(self,name):\n",
    "        self.name=name\n",
    "    def getname(self):\n",
    "        return self.name\n",
    "class student:\n",
    "    def __init__(self,id):\n",
    "        self.id=id\n",
    "    def getid(self):\n",
    "        return self.id\n",
    "class kid(person,student):\n",
    "    def __init__(self,name,id):\n",
    "        person.__init__(self,name)\n",
    "        student.__init__(self,id)"
   ]
  },
  {
   "cell_type": "code",
   "execution_count": 7,
   "metadata": {},
   "outputs": [],
   "source": [
    "s=kid('sahil',5656)"
   ]
  },
  {
   "cell_type": "code",
   "execution_count": 9,
   "metadata": {},
   "outputs": [
    {
     "data": {
      "text/plain": [
       "('sahil', 5656)"
      ]
     },
     "execution_count": 9,
     "metadata": {},
     "output_type": "execute_result"
    }
   ],
   "source": [
    "s.getname(),s.getid()"
   ]
  },
  {
   "cell_type": "code",
   "execution_count": null,
   "metadata": {},
   "outputs": [],
   "source": [
    "In this kid is subclass, person and student is superclass.The class kid extends both person and student \n",
    "to inherit the properties of both classes."
   ]
  },
  {
   "cell_type": "code",
   "execution_count": null,
   "metadata": {},
   "outputs": [],
   "source": [
    "Q2. What is the concept of delegation?"
   ]
  },
  {
   "cell_type": "code",
   "execution_count": null,
   "metadata": {},
   "outputs": [],
   "source": [
    "Delegation is an object oriented technique (also called a design pattern). Let's say you have an object \n",
    "x and want to change the behaviour of just one of its methods. You can create a new class that provides \n",
    "a new implementation of the method you're interested in changing and delegates all other methods to \n",
    "the corresponding method of x.For this we can implement delegation.\n",
    "The following class implements a class that behaves like a file but converts all written data to uppercase:"
   ]
  },
  {
   "cell_type": "code",
   "execution_count": 42,
   "metadata": {},
   "outputs": [
    {
     "data": {
      "text/plain": [
       "<bound method UpperOut.write of <__main__.UpperOut object at 0x000002EB2F941250>>"
      ]
     },
     "execution_count": 42,
     "metadata": {},
     "output_type": "execute_result"
    }
   ],
   "source": [
    "class UpperOut:\n",
    "\n",
    "    def __init__(self, outfile):\n",
    "        self._outfile = outfile\n",
    "\n",
    "    def write(self, s):\n",
    "        return self._outfile.write(s.upper())\n",
    "\n",
    "    def __getattr__(self, name):\n",
    "        return getattr(self._outfile, name)\n",
    "lh=UpperOut('lowhigh')\n"
   ]
  },
  {
   "cell_type": "code",
   "execution_count": null,
   "metadata": {},
   "outputs": [],
   "source": [
    "Here the UpperOut class redefines the write() method to convert the argument string to uppercase before\n",
    "calling the underlying self.__outfile.write() method. All other methods are delegated to the underlying\n",
    "self.__outfile object. The delegation is accomplished via the __getattr__ method."
   ]
  },
  {
   "cell_type": "code",
   "execution_count": null,
   "metadata": {},
   "outputs": [],
   "source": [
    "Q3. What is the concept of composition?"
   ]
  },
  {
   "cell_type": "code",
   "execution_count": null,
   "metadata": {},
   "outputs": [],
   "source": [
    "Composition is a concept that models a has a relationship. It enables creating complex types by combining\n",
    "objects of other types. This means that a class Composite can contain an object of another class Component.\n",
    "This relationship means that a Composite has a Component.Composition enables you to reuse code by \n",
    "adding objects to other objects, as opposed to inheriting theinterface and implementation of other classes.\n",
    "Composition allows composite classes to reuse the implementation of the components it contains. The \n",
    "composite class doesn’t inherit the component class interface, but it can leverage its implementation.\n",
    "This provides better adaptability to change and allows applications to introduce new requirements without\n",
    "affecting existing code.\n",
    "When looking at two competing software designs, one based on inheritance and another based on composition,\n",
    "the composition solution usually is the most flexible. "
   ]
  },
  {
   "cell_type": "code",
   "execution_count": 44,
   "metadata": {},
   "outputs": [
    {
     "name": "stdout",
     "output_type": "stream",
     "text": [
      "component class created\n",
      "composite class object also created\n",
      "m1() method executed\n",
      "m2() method executed\n"
     ]
    }
   ],
   "source": [
    "class component:\n",
    "    def __init__(self):\n",
    "        print('component class created')\n",
    "    def m1(self):\n",
    "        print('m1() method executed')\n",
    "class composite:\n",
    "    def __init__(self):\n",
    "        self.obj1=component()\n",
    "        print('composite class object also created')\n",
    "    def m2(self):\n",
    "        self.obj1.m1()\n",
    "        print('m2() method executed')\n",
    "obj2=composite()\n",
    "obj2.m2()\n",
    "        \n",
    "        "
   ]
  },
  {
   "cell_type": "code",
   "execution_count": null,
   "metadata": {},
   "outputs": [],
   "source": [
    "Q4. What are bound methods and how do we use them?"
   ]
  },
  {
   "cell_type": "code",
   "execution_count": null,
   "metadata": {},
   "outputs": [],
   "source": [
    "A bound method is the one which is dependent on the instance of the class as the first argument. It passes\n",
    "the instance as the first argument which is used to access the variables and functions. In Python 3 and\n",
    "newer versions of python, all functions in the class are by default bound methods."
   ]
  },
  {
   "cell_type": "code",
   "execution_count": 47,
   "metadata": {},
   "outputs": [
    {
     "data": {
      "text/plain": [
       "<bound method Person.say_hello of <__main__.Person object at 0x000002EB2F042A60>>"
      ]
     },
     "execution_count": 47,
     "metadata": {},
     "output_type": "execute_result"
    }
   ],
   "source": [
    "class Person: \n",
    "    def say_hello(self): \n",
    "        pass \n",
    "p=Person()\n",
    "p.say_hello"
   ]
  },
  {
   "cell_type": "code",
   "execution_count": null,
   "metadata": {},
   "outputs": [],
   "source": [
    "\n",
    "Person.say_hello is just a normal function.\n",
    "However, when you create an instance of Person with p = Person(), p.say_hello becomes a bound method,\n",
    "and it is bound to the object p.This happens during attribute lookup.\n",
    "When we say p.say_hello, Python goes through the inheritance tree to search for say_hello. \n",
    "It looks at the __dict__ of p, and it can’t find anything there. But then it finds say_hello, \n",
    "which is a function object, in the Person class."
   ]
  },
  {
   "cell_type": "code",
   "execution_count": null,
   "metadata": {},
   "outputs": [],
   "source": [
    "Q5. What is the purpose of pseudoprivate attributes?"
   ]
  },
  {
   "cell_type": "code",
   "execution_count": null,
   "metadata": {},
   "outputs": [],
   "source": [
    "Pseudo-private attribute feature is meant to alleviate has to do with the way instance attributes are \n",
    "stored. In Python, all instance attributes wind up in the single instance object at the bottom of the \n",
    "class tree.Within a class method in Python, whenever a method assigns to a self attribute (e.g.,\n",
    "self.attr=value), it changes or creates an attribute in the instance (inheritance search only happens on\n",
    "reference, not assignment). Because this is true even if multiple classes in a hierarchy assign to the \n",
    "same attribute, collisions are possible."
   ]
  }
 ],
 "metadata": {
  "kernelspec": {
   "display_name": "Python 3",
   "language": "python",
   "name": "python3"
  },
  "language_info": {
   "codemirror_mode": {
    "name": "ipython",
    "version": 3
   },
   "file_extension": ".py",
   "mimetype": "text/x-python",
   "name": "python",
   "nbconvert_exporter": "python",
   "pygments_lexer": "ipython3",
   "version": "3.8.3"
  }
 },
 "nbformat": 4,
 "nbformat_minor": 4
}
